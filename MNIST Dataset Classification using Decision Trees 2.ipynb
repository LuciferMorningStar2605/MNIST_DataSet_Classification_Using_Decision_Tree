{
 "cells": [
  {
   "cell_type": "markdown",
   "id": "6286a0e3",
   "metadata": {},
   "source": [
    "# Namish Rathy \n",
    
   ]
  },
  {
   "cell_type": "markdown",
   "id": "c634a777",
   "metadata": {},
   "source": [
    "* Objective:\n",
    "To implement a Decision Tree classifier to classify handwritten digits (0-9) from the\n",
    "MNIST dataset, and to introduce students to working with image datasets by converting\n",
    "image data into a format suitable for machine learning models."
   ]
  },
  {
   "cell_type": "code",
   "execution_count": 3,
   "id": "1e70bdac",
   "metadata": {},
   "outputs": [],
   "source": [
    "import numpy as np\n",
    "import pandas as pd\n",
    "import matplotlib.pyplot as plt\n",
    "import seaborn as sns\n",
    "import keras\n"
   ]
  },
  {
   "cell_type": "markdown",
   "id": "27070154",
   "metadata": {},
   "source": [
    "LOADING DATASET"
   ]
  },
  {
   "cell_type": "code",
   "execution_count": 4,
   "id": "3d899e99",
   "metadata": {},
   "outputs": [
    {
     "name": "stdout",
     "output_type": "stream",
     "text": [
      "Training data shape: (60000, 28, 28)\n",
      "Test data shape: (10000, 28, 28)\n",
      "Sample labels: [0 1 2 3 4 5 6 7 8 9]\n"
     ]
    }
   ],
   "source": [
    "from tensorflow.keras.datasets import mnist\n",
    "\n",
    "(X_train, y_train), (X_test, y_test) = mnist.load_data()\n",
    "\n",
    "print(\"Training data shape:\", X_train.shape) \n",
    "print(\"Test data shape:\", X_test.shape)  \n",
    "print(\"Sample labels:\", np.unique(y_train))  \n",
    "\n"
   ]
  },
  {
   "cell_type": "markdown",
   "id": "c6bd55da",
   "metadata": {},
   "source": [
    " SAMPLE VIEW "
   ]
  },
  {
   "cell_type": "markdown",
   "id": "328c5c06",
   "metadata": {},
   "source": [
    "plt.figure(figsize=(8, 4))\n",
    "for i in range(10):\n",
    "    plt.subplot(2, 5, i + 1)\n",
    "    plt.imshow(X_train[i], cmap=\"gray\")\n",
    "    plt.title(f\"Label: {y_train[i]}\")\n",
    "    plt.axis('off')\n",
    "plt.tight_layout()\n",
    "plt.show()"
   ]
  },
  {
   "cell_type": "markdown",
   "id": "a03790a7",
   "metadata": {},
   "source": [
    "IMAGE FLATTENING & NORMALIZATION"
   ]
  },
  {
   "cell_type": "code",
   "execution_count": 5,
   "id": "b0374f63",
   "metadata": {},
   "outputs": [],
   "source": [
    "X_train_flat = X_train.reshape((X_train.shape[0], -1))\n",
    "X_test_flat = X_test.reshape((X_test.shape[0], -1))\n",
    "\n",
    "\n",
    "X_train_norm = X_train_flat / 255.0\n",
    "X_test_norm = X_test_flat / 255.0"
   ]
  },
  {
   "cell_type": "code",
   "execution_count": 6,
   "id": "fbc0fab2",
   "metadata": {},
   "outputs": [
    {
     "name": "stdout",
     "output_type": "stream",
     "text": [
      "X_train_flat shape: (60000, 784)\n",
      "X_test_flat shape: (10000, 784)\n"
     ]
    }
   ],
   "source": [
    "print(\"X_train_flat shape:\", X_train_flat.shape) \n",
    "print(\"X_test_flat shape:\", X_test_flat.shape) "
   ]
  },
  {
   "cell_type": "markdown",
   "id": "b0578156",
   "metadata": {},
   "source": [
    "SPLITTING DATA"
   ]
  },
  {
   "cell_type": "code",
   "execution_count": 7,
   "id": "3b5a9f38",
   "metadata": {},
   "outputs": [],
   "source": [
    "from sklearn.model_selection import train_test_split\n"
   ]
  },
  {
   "cell_type": "code",
   "execution_count": 8,
   "id": "2759b3f7",
   "metadata": {},
   "outputs": [],
   "source": [
    "X_all = np.concatenate((X_train_norm, X_test_norm), axis=0)\n",
    "y_all = np.concatenate((y_train, y_test), axis=0)\n",
    "\n",
    "\n",
    "X_train_split, X_test_split, y_train_split, y_test_split = train_test_split(X_all, y_all, test_size=0.2, random_state=42)"
   ]
  },
  {
   "cell_type": "markdown",
   "id": "d101e83e",
   "metadata": {},
   "source": [
    "TRAIN MODEL"
   ]
  },
  {
   "cell_type": "code",
   "execution_count": 9,
   "id": "3489cb14",
   "metadata": {},
   "outputs": [
    {
     "data": {
      "text/html": [
       "<style>#sk-container-id-1 {\n",
       "  /* Definition of color scheme common for light and dark mode */\n",
       "  --sklearn-color-text: #000;\n",
       "  --sklearn-color-text-muted: #666;\n",
       "  --sklearn-color-line: gray;\n",
       "  /* Definition of color scheme for unfitted estimators */\n",
       "  --sklearn-color-unfitted-level-0: #fff5e6;\n",
       "  --sklearn-color-unfitted-level-1: #f6e4d2;\n",
       "  --sklearn-color-unfitted-level-2: #ffe0b3;\n",
       "  --sklearn-color-unfitted-level-3: chocolate;\n",
       "  /* Definition of color scheme for fitted estimators */\n",
       "  --sklearn-color-fitted-level-0: #f0f8ff;\n",
       "  --sklearn-color-fitted-level-1: #d4ebff;\n",
       "  --sklearn-color-fitted-level-2: #b3dbfd;\n",
       "  --sklearn-color-fitted-level-3: cornflowerblue;\n",
       "\n",
       "  /* Specific color for light theme */\n",
       "  --sklearn-color-text-on-default-background: var(--sg-text-color, var(--theme-code-foreground, var(--jp-content-font-color1, black)));\n",
       "  --sklearn-color-background: var(--sg-background-color, var(--theme-background, var(--jp-layout-color0, white)));\n",
       "  --sklearn-color-border-box: var(--sg-text-color, var(--theme-code-foreground, var(--jp-content-font-color1, black)));\n",
       "  --sklearn-color-icon: #696969;\n",
       "\n",
       "  @media (prefers-color-scheme: dark) {\n",
       "    /* Redefinition of color scheme for dark theme */\n",
       "    --sklearn-color-text-on-default-background: var(--sg-text-color, var(--theme-code-foreground, var(--jp-content-font-color1, white)));\n",
       "    --sklearn-color-background: var(--sg-background-color, var(--theme-background, var(--jp-layout-color0, #111)));\n",
       "    --sklearn-color-border-box: var(--sg-text-color, var(--theme-code-foreground, var(--jp-content-font-color1, white)));\n",
       "    --sklearn-color-icon: #878787;\n",
       "  }\n",
       "}\n",
       "\n",
       "#sk-container-id-1 {\n",
       "  color: var(--sklearn-color-text);\n",
       "}\n",
       "\n",
       "#sk-container-id-1 pre {\n",
       "  padding: 0;\n",
       "}\n",
       "\n",
       "#sk-container-id-1 input.sk-hidden--visually {\n",
       "  border: 0;\n",
       "  clip: rect(1px 1px 1px 1px);\n",
       "  clip: rect(1px, 1px, 1px, 1px);\n",
       "  height: 1px;\n",
       "  margin: -1px;\n",
       "  overflow: hidden;\n",
       "  padding: 0;\n",
       "  position: absolute;\n",
       "  width: 1px;\n",
       "}\n",
       "\n",
       "#sk-container-id-1 div.sk-dashed-wrapped {\n",
       "  border: 1px dashed var(--sklearn-color-line);\n",
       "  margin: 0 0.4em 0.5em 0.4em;\n",
       "  box-sizing: border-box;\n",
       "  padding-bottom: 0.4em;\n",
       "  background-color: var(--sklearn-color-background);\n",
       "}\n",
       "\n",
       "#sk-container-id-1 div.sk-container {\n",
       "  /* jupyter's `normalize.less` sets `[hidden] { display: none; }`\n",
       "     but bootstrap.min.css set `[hidden] { display: none !important; }`\n",
       "     so we also need the `!important` here to be able to override the\n",
       "     default hidden behavior on the sphinx rendered scikit-learn.org.\n",
       "     See: https://github.com/scikit-learn/scikit-learn/issues/21755 */\n",
       "  display: inline-block !important;\n",
       "  position: relative;\n",
       "}\n",
       "\n",
       "#sk-container-id-1 div.sk-text-repr-fallback {\n",
       "  display: none;\n",
       "}\n",
       "\n",
       "div.sk-parallel-item,\n",
       "div.sk-serial,\n",
       "div.sk-item {\n",
       "  /* draw centered vertical line to link estimators */\n",
       "  background-image: linear-gradient(var(--sklearn-color-text-on-default-background), var(--sklearn-color-text-on-default-background));\n",
       "  background-size: 2px 100%;\n",
       "  background-repeat: no-repeat;\n",
       "  background-position: center center;\n",
       "}\n",
       "\n",
       "/* Parallel-specific style estimator block */\n",
       "\n",
       "#sk-container-id-1 div.sk-parallel-item::after {\n",
       "  content: \"\";\n",
       "  width: 100%;\n",
       "  border-bottom: 2px solid var(--sklearn-color-text-on-default-background);\n",
       "  flex-grow: 1;\n",
       "}\n",
       "\n",
       "#sk-container-id-1 div.sk-parallel {\n",
       "  display: flex;\n",
       "  align-items: stretch;\n",
       "  justify-content: center;\n",
       "  background-color: var(--sklearn-color-background);\n",
       "  position: relative;\n",
       "}\n",
       "\n",
       "#sk-container-id-1 div.sk-parallel-item {\n",
       "  display: flex;\n",
       "  flex-direction: column;\n",
       "}\n",
       "\n",
       "#sk-container-id-1 div.sk-parallel-item:first-child::after {\n",
       "  align-self: flex-end;\n",
       "  width: 50%;\n",
       "}\n",
       "\n",
       "#sk-container-id-1 div.sk-parallel-item:last-child::after {\n",
       "  align-self: flex-start;\n",
       "  width: 50%;\n",
       "}\n",
       "\n",
       "#sk-container-id-1 div.sk-parallel-item:only-child::after {\n",
       "  width: 0;\n",
       "}\n",
       "\n",
       "/* Serial-specific style estimator block */\n",
       "\n",
       "#sk-container-id-1 div.sk-serial {\n",
       "  display: flex;\n",
       "  flex-direction: column;\n",
       "  align-items: center;\n",
       "  background-color: var(--sklearn-color-background);\n",
       "  padding-right: 1em;\n",
       "  padding-left: 1em;\n",
       "}\n",
       "\n",
       "\n",
       "/* Toggleable style: style used for estimator/Pipeline/ColumnTransformer box that is\n",
       "clickable and can be expanded/collapsed.\n",
       "- Pipeline and ColumnTransformer use this feature and define the default style\n",
       "- Estimators will overwrite some part of the style using the `sk-estimator` class\n",
       "*/\n",
       "\n",
       "/* Pipeline and ColumnTransformer style (default) */\n",
       "\n",
       "#sk-container-id-1 div.sk-toggleable {\n",
       "  /* Default theme specific background. It is overwritten whether we have a\n",
       "  specific estimator or a Pipeline/ColumnTransformer */\n",
       "  background-color: var(--sklearn-color-background);\n",
       "}\n",
       "\n",
       "/* Toggleable label */\n",
       "#sk-container-id-1 label.sk-toggleable__label {\n",
       "  cursor: pointer;\n",
       "  display: flex;\n",
       "  width: 100%;\n",
       "  margin-bottom: 0;\n",
       "  padding: 0.5em;\n",
       "  box-sizing: border-box;\n",
       "  text-align: center;\n",
       "  align-items: start;\n",
       "  justify-content: space-between;\n",
       "  gap: 0.5em;\n",
       "}\n",
       "\n",
       "#sk-container-id-1 label.sk-toggleable__label .caption {\n",
       "  font-size: 0.6rem;\n",
       "  font-weight: lighter;\n",
       "  color: var(--sklearn-color-text-muted);\n",
       "}\n",
       "\n",
       "#sk-container-id-1 label.sk-toggleable__label-arrow:before {\n",
       "  /* Arrow on the left of the label */\n",
       "  content: \"▸\";\n",
       "  float: left;\n",
       "  margin-right: 0.25em;\n",
       "  color: var(--sklearn-color-icon);\n",
       "}\n",
       "\n",
       "#sk-container-id-1 label.sk-toggleable__label-arrow:hover:before {\n",
       "  color: var(--sklearn-color-text);\n",
       "}\n",
       "\n",
       "/* Toggleable content - dropdown */\n",
       "\n",
       "#sk-container-id-1 div.sk-toggleable__content {\n",
       "  max-height: 0;\n",
       "  max-width: 0;\n",
       "  overflow: hidden;\n",
       "  text-align: left;\n",
       "  /* unfitted */\n",
       "  background-color: var(--sklearn-color-unfitted-level-0);\n",
       "}\n",
       "\n",
       "#sk-container-id-1 div.sk-toggleable__content.fitted {\n",
       "  /* fitted */\n",
       "  background-color: var(--sklearn-color-fitted-level-0);\n",
       "}\n",
       "\n",
       "#sk-container-id-1 div.sk-toggleable__content pre {\n",
       "  margin: 0.2em;\n",
       "  border-radius: 0.25em;\n",
       "  color: var(--sklearn-color-text);\n",
       "  /* unfitted */\n",
       "  background-color: var(--sklearn-color-unfitted-level-0);\n",
       "}\n",
       "\n",
       "#sk-container-id-1 div.sk-toggleable__content.fitted pre {\n",
       "  /* unfitted */\n",
       "  background-color: var(--sklearn-color-fitted-level-0);\n",
       "}\n",
       "\n",
       "#sk-container-id-1 input.sk-toggleable__control:checked~div.sk-toggleable__content {\n",
       "  /* Expand drop-down */\n",
       "  max-height: 200px;\n",
       "  max-width: 100%;\n",
       "  overflow: auto;\n",
       "}\n",
       "\n",
       "#sk-container-id-1 input.sk-toggleable__control:checked~label.sk-toggleable__label-arrow:before {\n",
       "  content: \"▾\";\n",
       "}\n",
       "\n",
       "/* Pipeline/ColumnTransformer-specific style */\n",
       "\n",
       "#sk-container-id-1 div.sk-label input.sk-toggleable__control:checked~label.sk-toggleable__label {\n",
       "  color: var(--sklearn-color-text);\n",
       "  background-color: var(--sklearn-color-unfitted-level-2);\n",
       "}\n",
       "\n",
       "#sk-container-id-1 div.sk-label.fitted input.sk-toggleable__control:checked~label.sk-toggleable__label {\n",
       "  background-color: var(--sklearn-color-fitted-level-2);\n",
       "}\n",
       "\n",
       "/* Estimator-specific style */\n",
       "\n",
       "/* Colorize estimator box */\n",
       "#sk-container-id-1 div.sk-estimator input.sk-toggleable__control:checked~label.sk-toggleable__label {\n",
       "  /* unfitted */\n",
       "  background-color: var(--sklearn-color-unfitted-level-2);\n",
       "}\n",
       "\n",
       "#sk-container-id-1 div.sk-estimator.fitted input.sk-toggleable__control:checked~label.sk-toggleable__label {\n",
       "  /* fitted */\n",
       "  background-color: var(--sklearn-color-fitted-level-2);\n",
       "}\n",
       "\n",
       "#sk-container-id-1 div.sk-label label.sk-toggleable__label,\n",
       "#sk-container-id-1 div.sk-label label {\n",
       "  /* The background is the default theme color */\n",
       "  color: var(--sklearn-color-text-on-default-background);\n",
       "}\n",
       "\n",
       "/* On hover, darken the color of the background */\n",
       "#sk-container-id-1 div.sk-label:hover label.sk-toggleable__label {\n",
       "  color: var(--sklearn-color-text);\n",
       "  background-color: var(--sklearn-color-unfitted-level-2);\n",
       "}\n",
       "\n",
       "/* Label box, darken color on hover, fitted */\n",
       "#sk-container-id-1 div.sk-label.fitted:hover label.sk-toggleable__label.fitted {\n",
       "  color: var(--sklearn-color-text);\n",
       "  background-color: var(--sklearn-color-fitted-level-2);\n",
       "}\n",
       "\n",
       "/* Estimator label */\n",
       "\n",
       "#sk-container-id-1 div.sk-label label {\n",
       "  font-family: monospace;\n",
       "  font-weight: bold;\n",
       "  display: inline-block;\n",
       "  line-height: 1.2em;\n",
       "}\n",
       "\n",
       "#sk-container-id-1 div.sk-label-container {\n",
       "  text-align: center;\n",
       "}\n",
       "\n",
       "/* Estimator-specific */\n",
       "#sk-container-id-1 div.sk-estimator {\n",
       "  font-family: monospace;\n",
       "  border: 1px dotted var(--sklearn-color-border-box);\n",
       "  border-radius: 0.25em;\n",
       "  box-sizing: border-box;\n",
       "  margin-bottom: 0.5em;\n",
       "  /* unfitted */\n",
       "  background-color: var(--sklearn-color-unfitted-level-0);\n",
       "}\n",
       "\n",
       "#sk-container-id-1 div.sk-estimator.fitted {\n",
       "  /* fitted */\n",
       "  background-color: var(--sklearn-color-fitted-level-0);\n",
       "}\n",
       "\n",
       "/* on hover */\n",
       "#sk-container-id-1 div.sk-estimator:hover {\n",
       "  /* unfitted */\n",
       "  background-color: var(--sklearn-color-unfitted-level-2);\n",
       "}\n",
       "\n",
       "#sk-container-id-1 div.sk-estimator.fitted:hover {\n",
       "  /* fitted */\n",
       "  background-color: var(--sklearn-color-fitted-level-2);\n",
       "}\n",
       "\n",
       "/* Specification for estimator info (e.g. \"i\" and \"?\") */\n",
       "\n",
       "/* Common style for \"i\" and \"?\" */\n",
       "\n",
       ".sk-estimator-doc-link,\n",
       "a:link.sk-estimator-doc-link,\n",
       "a:visited.sk-estimator-doc-link {\n",
       "  float: right;\n",
       "  font-size: smaller;\n",
       "  line-height: 1em;\n",
       "  font-family: monospace;\n",
       "  background-color: var(--sklearn-color-background);\n",
       "  border-radius: 1em;\n",
       "  height: 1em;\n",
       "  width: 1em;\n",
       "  text-decoration: none !important;\n",
       "  margin-left: 0.5em;\n",
       "  text-align: center;\n",
       "  /* unfitted */\n",
       "  border: var(--sklearn-color-unfitted-level-1) 1pt solid;\n",
       "  color: var(--sklearn-color-unfitted-level-1);\n",
       "}\n",
       "\n",
       ".sk-estimator-doc-link.fitted,\n",
       "a:link.sk-estimator-doc-link.fitted,\n",
       "a:visited.sk-estimator-doc-link.fitted {\n",
       "  /* fitted */\n",
       "  border: var(--sklearn-color-fitted-level-1) 1pt solid;\n",
       "  color: var(--sklearn-color-fitted-level-1);\n",
       "}\n",
       "\n",
       "/* On hover */\n",
       "div.sk-estimator:hover .sk-estimator-doc-link:hover,\n",
       ".sk-estimator-doc-link:hover,\n",
       "div.sk-label-container:hover .sk-estimator-doc-link:hover,\n",
       ".sk-estimator-doc-link:hover {\n",
       "  /* unfitted */\n",
       "  background-color: var(--sklearn-color-unfitted-level-3);\n",
       "  color: var(--sklearn-color-background);\n",
       "  text-decoration: none;\n",
       "}\n",
       "\n",
       "div.sk-estimator.fitted:hover .sk-estimator-doc-link.fitted:hover,\n",
       ".sk-estimator-doc-link.fitted:hover,\n",
       "div.sk-label-container:hover .sk-estimator-doc-link.fitted:hover,\n",
       ".sk-estimator-doc-link.fitted:hover {\n",
       "  /* fitted */\n",
       "  background-color: var(--sklearn-color-fitted-level-3);\n",
       "  color: var(--sklearn-color-background);\n",
       "  text-decoration: none;\n",
       "}\n",
       "\n",
       "/* Span, style for the box shown on hovering the info icon */\n",
       ".sk-estimator-doc-link span {\n",
       "  display: none;\n",
       "  z-index: 9999;\n",
       "  position: relative;\n",
       "  font-weight: normal;\n",
       "  right: .2ex;\n",
       "  padding: .5ex;\n",
       "  margin: .5ex;\n",
       "  width: min-content;\n",
       "  min-width: 20ex;\n",
       "  max-width: 50ex;\n",
       "  color: var(--sklearn-color-text);\n",
       "  box-shadow: 2pt 2pt 4pt #999;\n",
       "  /* unfitted */\n",
       "  background: var(--sklearn-color-unfitted-level-0);\n",
       "  border: .5pt solid var(--sklearn-color-unfitted-level-3);\n",
       "}\n",
       "\n",
       ".sk-estimator-doc-link.fitted span {\n",
       "  /* fitted */\n",
       "  background: var(--sklearn-color-fitted-level-0);\n",
       "  border: var(--sklearn-color-fitted-level-3);\n",
       "}\n",
       "\n",
       ".sk-estimator-doc-link:hover span {\n",
       "  display: block;\n",
       "}\n",
       "\n",
       "/* \"?\"-specific style due to the `<a>` HTML tag */\n",
       "\n",
       "#sk-container-id-1 a.estimator_doc_link {\n",
       "  float: right;\n",
       "  font-size: 1rem;\n",
       "  line-height: 1em;\n",
       "  font-family: monospace;\n",
       "  background-color: var(--sklearn-color-background);\n",
       "  border-radius: 1rem;\n",
       "  height: 1rem;\n",
       "  width: 1rem;\n",
       "  text-decoration: none;\n",
       "  /* unfitted */\n",
       "  color: var(--sklearn-color-unfitted-level-1);\n",
       "  border: var(--sklearn-color-unfitted-level-1) 1pt solid;\n",
       "}\n",
       "\n",
       "#sk-container-id-1 a.estimator_doc_link.fitted {\n",
       "  /* fitted */\n",
       "  border: var(--sklearn-color-fitted-level-1) 1pt solid;\n",
       "  color: var(--sklearn-color-fitted-level-1);\n",
       "}\n",
       "\n",
       "/* On hover */\n",
       "#sk-container-id-1 a.estimator_doc_link:hover {\n",
       "  /* unfitted */\n",
       "  background-color: var(--sklearn-color-unfitted-level-3);\n",
       "  color: var(--sklearn-color-background);\n",
       "  text-decoration: none;\n",
       "}\n",
       "\n",
       "#sk-container-id-1 a.estimator_doc_link.fitted:hover {\n",
       "  /* fitted */\n",
       "  background-color: var(--sklearn-color-fitted-level-3);\n",
       "}\n",
       "</style><div id=\"sk-container-id-1\" class=\"sk-top-container\"><div class=\"sk-text-repr-fallback\"><pre>DecisionTreeClassifier()</pre><b>In a Jupyter environment, please rerun this cell to show the HTML representation or trust the notebook. <br />On GitHub, the HTML representation is unable to render, please try loading this page with nbviewer.org.</b></div><div class=\"sk-container\" hidden><div class=\"sk-item\"><div class=\"sk-estimator fitted sk-toggleable\"><input class=\"sk-toggleable__control sk-hidden--visually\" id=\"sk-estimator-id-1\" type=\"checkbox\" checked><label for=\"sk-estimator-id-1\" class=\"sk-toggleable__label fitted sk-toggleable__label-arrow\"><div><div>DecisionTreeClassifier</div></div><div><a class=\"sk-estimator-doc-link fitted\" rel=\"noreferrer\" target=\"_blank\" href=\"https://scikit-learn.org/1.6/modules/generated/sklearn.tree.DecisionTreeClassifier.html\">?<span>Documentation for DecisionTreeClassifier</span></a><span class=\"sk-estimator-doc-link fitted\">i<span>Fitted</span></span></div></label><div class=\"sk-toggleable__content fitted\"><pre>DecisionTreeClassifier()</pre></div> </div></div></div></div>"
      ],
      "text/plain": [
       "DecisionTreeClassifier()"
      ]
     },
     "execution_count": 9,
     "metadata": {},
     "output_type": "execute_result"
    }
   ],
   "source": [
    "from sklearn.tree import DecisionTreeClassifier\n",
    "\n",
    "dt_model = DecisionTreeClassifier()\n",
    "\n",
    "dt_model.fit(X_train_split, y_train_split)"
   ]
  },
  {
   "cell_type": "markdown",
   "id": "7c769c69",
   "metadata": {},
   "source": [
    "MODEL EVALUATION"
   ]
  },
  {
   "cell_type": "code",
   "execution_count": 10,
   "id": "bca8799a",
   "metadata": {},
   "outputs": [
    {
     "name": "stdout",
     "output_type": "stream",
     "text": [
      "Decision Tree Accuracy: 0.8730714285714286\n",
      "Classification Report:\n",
      "               precision    recall  f1-score   support\n",
      "\n",
      "           0       0.93      0.93      0.93      1343\n",
      "           1       0.94      0.95      0.95      1600\n",
      "           2       0.87      0.83      0.85      1380\n",
      "           3       0.85      0.84      0.84      1433\n",
      "           4       0.85      0.88      0.86      1295\n",
      "           5       0.83      0.82      0.83      1273\n",
      "           6       0.90      0.90      0.90      1396\n",
      "           7       0.91      0.91      0.91      1503\n",
      "           8       0.81      0.81      0.81      1357\n",
      "           9       0.83      0.84      0.84      1420\n",
      "\n",
      "    accuracy                           0.87     14000\n",
      "   macro avg       0.87      0.87      0.87     14000\n",
      "weighted avg       0.87      0.87      0.87     14000\n",
      "\n"
     ]
    }
   ],
   "source": [
    "from sklearn.metrics import accuracy_score, classification_report, confusion_matrix\n",
    "\n",
    "y_pred = dt_model.predict(X_test_split)\n",
    "\n",
    "acc = accuracy_score(y_test_split, y_pred)\n",
    "\n",
    "print(\"Decision Tree Accuracy:\", acc)\n",
    "print(\"Classification Report:\\n\", classification_report(y_test_split, y_pred))"
   ]
  },
  {
   "cell_type": "markdown",
   "id": "9571172b",
   "metadata": {},
   "source": [
    "# EXTRA - LETS TRY TO IMPROVE THE ACC SCORE"
   ]
  },
  {
   "cell_type": "markdown",
   "id": "0a966eaf",
   "metadata": {},
   "source": [
    "HYPERPARAMETER TUNING"
   ]
  },
  {
   "cell_type": "markdown",
   "id": "2f10d129",
   "metadata": {},
   "source": [
    "* ENTROPY"
   ]
  },
  {
   "cell_type": "code",
   "execution_count": 13,
   "id": "168949e8",
   "metadata": {},
   "outputs": [
    {
     "name": "stdout",
     "output_type": "stream",
     "text": [
      "Accuracy with tuned parameters: 0.8786428571428572\n"
     ]
    }
   ],
   "source": [
    "from sklearn.tree import DecisionTreeClassifier\n",
    "from sklearn.model_selection import train_test_split\n",
    "from sklearn.metrics import accuracy_score\n",
    "\n",
    "# Assuming X_train_norm and y_train are preprocessed and ready\n",
    "\n",
    "# Split into training and validation sets\n",
    "X_train_final, X_val, y_train_final, y_val = train_test_split(\n",
    "    X_all, y_all, test_size=0.2, random_state=42\n",
    ")\n",
    "\n",
    "# Initialize the Decision Tree with tuned parameters\n",
    "model = DecisionTreeClassifier(\n",
    "    max_depth=25,\n",
    "    min_samples_split=10,\n",
    "    min_samples_leaf=5,\n",
    "    criterion='entropy',\n",
    "    random_state=42\n",
    ")\n",
    "\n",
    "# Train the model\n",
    "model.fit(X_train_final, y_train_final)\n",
    "\n",
    "# Predict on validation set\n",
    "y_pred = model.predict(X_val)\n",
    "\n",
    "# Evaluate\n",
    "acc = accuracy_score(y_val, y_pred)\n",
    "print(\"Accuracy with tuned parameters:\" , acc)\n"
   ]
  },
  {
   "cell_type": "markdown",
   "id": "9434d012",
   "metadata": {},
   "source": [
    "* GINI "
   ]
  },
  {
   "cell_type": "code",
   "execution_count": 14,
   "id": "3351af49",
   "metadata": {},
   "outputs": [
    {
     "name": "stdout",
     "output_type": "stream",
     "text": [
      "Accuracy with tuned parameters: 0.8722857142857143\n"
     ]
    }
   ],
   "source": [
    "model = DecisionTreeClassifier(\n",
    "    max_depth=25,\n",
    "    min_samples_split=10,\n",
    "    min_samples_leaf=5,\n",
    "    criterion='gini',\n",
    "    random_state=42\n",
    ")\n",
    "\n",
    "# Train the model\n",
    "model.fit(X_train_final, y_train_final)\n",
    "\n",
    "# Predict on validation set\n",
    "y_pred = model.predict(X_val)\n",
    "\n",
    "# Evaluate\n",
    "acc = accuracy_score(y_val, y_pred)\n",
    "print(\"Accuracy with tuned parameters:\" , acc)"
   ]
  },
  {
   "cell_type": "markdown",
   "id": "66a7a157",
   "metadata": {},
   "source": [
    "GRID_SEARCH_CV"
   ]
  },
  {
   "cell_type": "code",
   "execution_count": 15,
   "id": "8d695d39",
   "metadata": {},
   "outputs": [
    {
     "name": "stdout",
     "output_type": "stream",
     "text": [
      "Best Parameters: {'criterion': 'entropy', 'max_depth': 30, 'min_samples_leaf': 5, 'min_samples_split': 10}\n",
      "Best Accuracy: 0.866803515220172\n"
     ]
    }
   ],
   "source": [
    "from sklearn.model_selection import GridSearchCV\n",
    "\n",
    "param_grid = {\n",
    "    'max_depth': [10, 20, 30],\n",
    "    'min_samples_split': [5, 10],\n",
    "    'min_samples_leaf': [2, 5],\n",
    "    'criterion': ['gini', 'entropy']\n",
    "}\n",
    "\n",
    "grid = GridSearchCV(DecisionTreeClassifier(), param_grid, cv=3)\n",
    "grid.fit(X_train_final, y_train_final)\n",
    "\n",
    "print(\"Best Parameters:\", grid.best_params_)\n",
    "print(\"Best Accuracy:\", grid.best_score_)\n"
   ]
  },
  {
   "cell_type": "markdown",
   "id": "ce177f69",
   "metadata": {},
   "source": [
    "LETS VISUALISE IT "
   ]
  },
  {
   "cell_type": "code",
   "execution_count": 18,
   "id": "3df91a19",
   "metadata": {},
   "outputs": [
    {
     "data": {
      "image/png": "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",
      "text/plain": [
       "<Figure size 1000x700 with 2 Axes>"
      ]
     },
     "metadata": {},
     "output_type": "display_data"
    }
   ],
   "source": [
    "from sklearn.metrics import confusion_matrix\n",
    "import seaborn as sns\n",
    "import matplotlib.pyplot as plt\n",
    "\n",
    "cm = confusion_matrix(y_val, model.predict(X_val))\n",
    "plt.figure(figsize=(10, 7))\n",
    "sns.heatmap(cm, annot=True, fmt='d', cmap='Blues')\n",
    "plt.title(\"Confusion Matrix - Decision Tree (Entropy)\")\n",
    "plt.xlabel(\"Predicted\")\n",
    "plt.ylabel(\"Actual\")\n",
    "plt.show()\n"
   ]
  },
  {
   "cell_type": "markdown",
   "id": "c020aed1",
   "metadata": {},
   "source": [
    "USING RANDOM FOREST "
   ]
  },
  {
   "cell_type": "code",
   "execution_count": 20,
   "id": "ca7e441f",
   "metadata": {},
   "outputs": [
    {
     "name": "stdout",
     "output_type": "stream",
     "text": [
      "Random Forest Accuracy: 0.9625714285714285\n"
     ]
    }
   ],
   "source": [
    "from sklearn.ensemble import RandomForestClassifier\n",
    "\n",
    "rf_model = RandomForestClassifier(\n",
    "    n_estimators=100,\n",
    "    max_depth=30,\n",
    "    min_samples_split=10,\n",
    "    min_samples_leaf=5,\n",
    "    criterion='entropy',\n",
    "    random_state=42\n",
    ")\n",
    "\n",
    "rf_model.fit(X_train_split, y_train_split)\n",
    "rf_acc = accuracy_score(y_val, rf_model.predict(X_val))\n",
    "print(\"Random Forest Accuracy:\",rf_acc)\n"
   ]
  },
  {
   "cell_type": "code",
   "execution_count": 21,
   "id": "d6678570",
   "metadata": {},
   "outputs": [
    {
     "data": {
      "image/png": "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",
      "text/plain": [
       "<Figure size 1000x700 with 2 Axes>"
      ]
     },
     "metadata": {},
     "output_type": "display_data"
    }
   ],
   "source": [
    "rf_cm = confusion_matrix(y_val, rf_model.predict(X_val))\n",
    "plt.figure(figsize=(10, 7))\n",
    "sns.heatmap(rf_cm, annot=True, fmt='d', cmap='Greens')\n",
    "plt.title(\"Confusion Matrix - Random Forest\")\n",
    "plt.xlabel(\"Predicted\")\n",
    "plt.ylabel(\"Actual\")\n",
    "plt.show()"
   ]
  },
  {
   "cell_type": "markdown",
   "id": "f8c4b96d",
   "metadata": {},
   "source": [
    "# SUMMARY "
   ]
  },
  {
   "cell_type": "markdown",
   "id": "2c71f111",
   "metadata": {},
   "source": [
    "I implemented and evaluated a Decision Tree classifier and improved its performance using GridSearchCV with entropy and gini criteria. The best tuned model achieved an accuracy of 87.86%.\n",
    "I further enhanced performance using a Random Forest classifier, which achieved an impressive 96.26% accuracy, demonstrating the advantage of ensemble methods in image classification tasks like MNIST."
   ]
  }
 ],
 "metadata": {
  "kernelspec": {
   "display_name": "base",
   "language": "python",
   "name": "python3"
  },
  "language_info": {
   "codemirror_mode": {
    "name": "ipython",
    "version": 3
   },
   "file_extension": ".py",
   "mimetype": "text/x-python",
   "name": "python",
   "nbconvert_exporter": "python",
   "pygments_lexer": "ipython3",
   "version": "3.12.4"
  }
 },
 "nbformat": 4,
 "nbformat_minor": 5
}
